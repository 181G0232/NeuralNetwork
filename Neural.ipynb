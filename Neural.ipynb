{
 "cells": [
  {
   "cell_type": "code",
   "execution_count": 21,
   "metadata": {},
   "outputs": [
    {
     "name": "stdout",
     "output_type": "stream",
     "text": [
      "[5, 4, 5, 6]\n",
      "[1.0, 1.0, 1.0, 1.0]\n",
      "[5.0, 4.0, 5.0, 6.0]\n",
      "20.0\n",
      "--- Control Break ---\n",
      "20.0\n",
      "[0.25, 0.2, 0.25, 0.3]\n",
      "--- Control Break ---\n",
      "[0.75, 0.8, 0.75, 0.7]\n"
     ]
    }
   ],
   "source": [
    "import random\n",
    "\n",
    "inputs = [\n",
    "    5,  # float(random.randint(-10, 10)),\n",
    "    4,  # float(random.randint(-10, 10)),\n",
    "    5,  # float(random.randint(-10, 10)),\n",
    "    6   # float(random.randint(-10, 10)),\n",
    "]\n",
    "\n",
    "weights = [\n",
    "    1.0,\n",
    "    1.0,\n",
    "    1.0,\n",
    "    1.0,\n",
    "]\n",
    "\n",
    "outs = []\n",
    "for i in range(0, len(weights)):\n",
    "    outs.append(weights[i] * inputs[i])\n",
    "\n",
    "print(inputs)\n",
    "print(weights)\n",
    "print(outs)\n",
    "print(sum(outs))\n",
    "\n",
    "print(\"--- Control Break ---\")\n",
    "\n",
    "average = 0.0\n",
    "for i in inputs:\n",
    "    if i >= 0:\n",
    "        average = average + i\n",
    "    else:\n",
    "        average = average - i\n",
    "\n",
    "ratio = []\n",
    "for i in range(0, len(weights)):\n",
    "    r = inputs[i] / average\n",
    "    if r >= 0:\n",
    "        ratio.append(r)\n",
    "    else:\n",
    "        ratio.append(-r)\n",
    "\n",
    "print(average)\n",
    "print(ratio)\n",
    "\n",
    "print(\"--- Control Break ---\")\n",
    "\n",
    "rate = 1.0\n",
    "error = 1.0\n",
    "\n",
    "for i in range(0, len(weights)):\n",
    "    weights[i] = weights[i] - (ratio[i] * error * rate)\n",
    "\n",
    "print(weights)\n"
   ]
  }
 ],
 "metadata": {
  "interpreter": {
   "hash": "d4ebfaaa647563694c0e239cbf5548cd7e6a529a84190039b39436549ed4c9ba"
  },
  "kernelspec": {
   "display_name": "Python 3.10.0 64-bit",
   "name": "python3"
  },
  "language_info": {
   "codemirror_mode": {
    "name": "ipython",
    "version": 3
   },
   "file_extension": ".py",
   "mimetype": "text/x-python",
   "name": "python",
   "nbconvert_exporter": "python",
   "pygments_lexer": "ipython3",
   "version": "3.10.0"
  },
  "orig_nbformat": 4
 },
 "nbformat": 4,
 "nbformat_minor": 2
}
